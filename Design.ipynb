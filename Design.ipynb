{
 "cells": [
  {
   "cell_type": "code",
   "execution_count": 16,
   "id": "d543cb57",
   "metadata": {},
   "outputs": [],
   "source": [
    "import turtle as t\n",
    "import colorsys\n",
    "\n",
    "t.bgcolor(\"black\")\n",
    "t.tracer(100)\n",
    "t.pensize(1)\n",
    "h = 0.0\n",
    "for i in range(250):\n",
    "    c = colorsys.hsv_to_rgb(h, 1, 1)\n",
    "    h += 0.01\n",
    "    t.fillcolor(c)\n",
    "    t.begin_fill()\n",
    "    t.fd(i)\n",
    "    t.lt(100)\n",
    "    t.circle(50)\n",
    "    for j in range(2):\n",
    "        t.fd(i * j)\n",
    "        t.rt(109)\n",
    "    t.end_fill()\n",
    "\n",
    "t.done()\n"
   ]
  },
  {
   "cell_type": "code",
   "execution_count": null,
   "id": "12098faf",
   "metadata": {},
   "outputs": [],
   "source": []
  }
 ],
 "metadata": {
  "kernelspec": {
   "display_name": "Python 3 (ipykernel)",
   "language": "python",
   "name": "python3"
  },
  "language_info": {
   "codemirror_mode": {
    "name": "ipython",
    "version": 3
   },
   "file_extension": ".py",
   "mimetype": "text/x-python",
   "name": "python",
   "nbconvert_exporter": "python",
   "pygments_lexer": "ipython3",
   "version": "3.9.12"
  }
 },
 "nbformat": 4,
 "nbformat_minor": 5
}
