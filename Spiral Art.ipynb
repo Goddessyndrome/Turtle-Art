{
 "cells": [
  {
   "cell_type": "code",
   "execution_count": null,
   "id": "09433062",
   "metadata": {},
   "outputs": [],
   "source": [
    "#spiral using turtle library in python"
   ]
  },
  {
   "cell_type": "code",
   "execution_count": null,
   "id": "234cc6d4",
   "metadata": {},
   "outputs": [],
   "source": [
    "#IMPORTING LIBRARY"
   ]
  },
  {
   "cell_type": "code",
   "execution_count": 1,
   "id": "57b7b586",
   "metadata": {},
   "outputs": [],
   "source": [
    "import turtle"
   ]
  },
  {
   "cell_type": "code",
   "execution_count": null,
   "id": "224886c6",
   "metadata": {},
   "outputs": [],
   "source": [
    "# Define colors"
   ]
  },
  {
   "cell_type": "code",
   "execution_count": 2,
   "id": "ca64220c",
   "metadata": {},
   "outputs": [],
   "source": [
    "colors = 'red', 'blue', 'green', 'orange', 'grey'"
   ]
  },
  {
   "cell_type": "code",
   "execution_count": null,
   "id": "027f4d9b",
   "metadata": {},
   "outputs": [],
   "source": [
    "# SET UP THE TURTLE AND SET THE BACKGROUND"
   ]
  },
  {
   "cell_type": "code",
   "execution_count": 1,
   "id": "fdcf3b01",
   "metadata": {},
   "outputs": [],
   "source": [
    "import turtle\n",
    "\n",
    "# Create a turtle object named 't'\n",
    "t = turtle.Pen()\n",
    "\n",
    "# Set the background color to pink\n",
    "turtle.bgcolor('pink')\n",
    "\n",
    "# Your drawing or turtle graphics operations go here\n",
    "\n",
    "# Terminate the graphics window when you're done\n",
    "turtle.done()\n"
   ]
  },
  {
   "cell_type": "code",
   "execution_count": null,
   "id": "f6be7e26",
   "metadata": {},
   "outputs": [],
   "source": [
    "# MOVEMENTS"
   ]
  },
  {
   "cell_type": "code",
   "execution_count": null,
   "id": "4b646af6",
   "metadata": {},
   "outputs": [],
   "source": [
    "import turtle as t\n",
    "import time  # Import the time module\n",
    "\n",
    "# List of colors\n",
    "colors = [\"red\", \"green\", \"blue\", \"orange\", \"purple\", \"pink\"]\n",
    "\n",
    "for x in range(200):\n",
    "    # Setting the color\n",
    "    t.pencolor(colors[x % 6])\n",
    "    t.width(x / 100 + 1)\n",
    "    \n",
    "    # Moving the turtle forward and turning\n",
    "    t.forward(x)\n",
    "    t.left(59)  # You can adjust the angle as needed\n",
    "\n",
    "# Add a delay to keep the window open for a few seconds\n",
    "time.sleep(3)  # Adjust the duration as needed\n",
    "\n",
    "# Close the turtle graphics window when done\n",
    "t.done()\n"
   ]
  },
  {
   "cell_type": "code",
   "execution_count": null,
   "id": "6e99365f",
   "metadata": {},
   "outputs": [],
   "source": []
  }
 ],
 "metadata": {
  "kernelspec": {
   "display_name": "Python 3 (ipykernel)",
   "language": "python",
   "name": "python3"
  },
  "language_info": {
   "codemirror_mode": {
    "name": "ipython",
    "version": 3
   },
   "file_extension": ".py",
   "mimetype": "text/x-python",
   "name": "python",
   "nbconvert_exporter": "python",
   "pygments_lexer": "ipython3",
   "version": "3.9.12"
  }
 },
 "nbformat": 4,
 "nbformat_minor": 5
}
