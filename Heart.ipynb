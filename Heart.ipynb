{
 "cells": [
  {
   "cell_type": "markdown",
   "id": "18cac797",
   "metadata": {},
   "source": [
    "# HEART"
   ]
  },
  {
   "cell_type": "code",
   "execution_count": null,
   "id": "a9cef7ea",
   "metadata": {},
   "outputs": [],
   "source": [
    "import math\n",
    "from turtle import *\n",
    "\n",
    "def hearta(k):\n",
    "    return 15 * math.sin(k) ** 3\n",
    "\n",
    "def heartb(k):\n",
    "    return 12 * math.cos(k) - 5 * math.cos(2 * k) - 2 * math.cos(3 * k) - math.cos(4 * k)\n",
    "\n",
    "speed(0)\n",
    "bgcolor(\"black\")\n",
    "\n",
    "for i in range(300):\n",
    "    color(\"#f73487\")\n",
    "    pensize(2)\n",
    "    pu()\n",
    "    goto(hearta(i) * 10, heartb(i) * 10)\n",
    "    pd()\n",
    "    goto(0, 0)\n",
    "\n",
    "done()\n"
   ]
  }
 ],
 "metadata": {
  "kernelspec": {
   "display_name": "Python 3 (ipykernel)",
   "language": "python",
   "name": "python3"
  },
  "language_info": {
   "codemirror_mode": {
    "name": "ipython",
    "version": 3
   },
   "file_extension": ".py",
   "mimetype": "text/x-python",
   "name": "python",
   "nbconvert_exporter": "python",
   "pygments_lexer": "ipython3",
   "version": "3.9.12"
  }
 },
 "nbformat": 4,
 "nbformat_minor": 5
}
